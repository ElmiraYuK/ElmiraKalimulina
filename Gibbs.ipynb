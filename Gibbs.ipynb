{
  "nbformat": 4,
  "nbformat_minor": 0,
  "metadata": {
    "colab": {
      "provenance": [],
      "authorship_tag": "ABX9TyOs1+wDBhcsMIapfbs27hsp",
      "include_colab_link": true
    },
    "kernelspec": {
      "name": "python3",
      "display_name": "Python 3"
    },
    "language_info": {
      "name": "python"
    }
  },
  "cells": [
    {
      "cell_type": "markdown",
      "metadata": {
        "id": "view-in-github",
        "colab_type": "text"
      },
      "source": [
        "<a href=\"https://colab.research.google.com/github/ElmiraKalimulina/ElmiraKalimulina/blob/main/Gibbs.ipynb\" target=\"_parent\"><img src=\"https://colab.research.google.com/assets/colab-badge.svg\" alt=\"Open In Colab\"/></a>"
      ]
    },
    {
      "cell_type": "markdown",
      "source": [
        "##Gibbs measure over a grid tutorial\n",
        "This notebook illustrates the knockoff construction for a Gibbs measure across a grid with probability mass function\n",
        "\n",
        "[source](https://web.stanford.edu/group/candes/metro/gibbs_tutorial_py.html/)\n",
        "\n",
        "$$\n",
        "P_{\\Lambda}(X) = \\frac{1}{Z(\\beta_0)} \\exp\\left(-\\beta_0\\sum_{\\substack{s, t \\in \\mathbb{Z}^{d} \\\\\\|s-t\\|_1=1}}(x_s-x_t)^2 \\right),\\mathbb{Z}^{d}  = \\{(i_1,i_2) : 1\\le i_1,i_2 \\le d\\}.\n",
        "$$"
      ],
      "metadata": {
        "id": "a6h2QDg8u7cY"
      }
    },
    {
      "cell_type": "code",
      "execution_count": null,
      "metadata": {
        "id": "abNR0oXeuvXM"
      },
      "outputs": [],
      "source": [
        "import math\n",
        "import numpy as np\n",
        "import time\n",
        "import seaborn as sns\n",
        "\n",
        "%run ../Gibbs-grid/Gibbs_MTM #load the Gibbs simulation functions"
      ]
    },
    {
      "cell_type": "code",
      "source": [
        "#simulation parameters\n",
        "d = 5\n",
        "p = d * d #total number of variables\n",
        "K = 5 # support size\n",
        "beta = 0.2 #interaction strength\n",
        "numsamples = 100\n",
        "\n",
        "#algorithm parameters\n",
        "N_gibbs = 100 #number of iterations for the initial Gibbs sampler\n",
        "gamma = .99\n",
        "half_num_try = 1 #half the number of proposals\n",
        "step_size = 1 #propsal size\n",
        "max_width = 2 #slicing width"
      ],
      "metadata": {
        "id": "OWm4eE2lvo1k"
      },
      "execution_count": 1,
      "outputs": []
    },
    {
      "cell_type": "code",
      "source": [],
      "metadata": {
        "id": "FpC3BngqvpPx"
      },
      "execution_count": null,
      "outputs": []
    }
  ]
}